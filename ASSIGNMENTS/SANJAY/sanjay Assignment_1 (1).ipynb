{
  "metadata": {
    "colab": {
      "collapsed_sections": [],
      "provenance": []
    },
    "kernelspec": {
      "name": "python",
      "display_name": "Python (Pyodide)",
      "language": "python"
    },
    "language_info": {
      "codemirror_mode": {
        "name": "python",
        "version": 3
      },
      "file_extension": ".py",
      "mimetype": "text/x-python",
      "name": "python",
      "nbconvert_exporter": "python",
      "pygments_lexer": "ipython3",
      "version": "3.8"
    }
  },
  "nbformat_minor": 4,
  "nbformat": 4,
  "cells": [
    {
      "cell_type": "markdown",
      "source": "# Basic Python",
      "metadata": {
        "id": "McSxJAwcOdZ1"
      }
    },
    {
      "cell_type": "markdown",
      "source": "## 1. Split this string",
      "metadata": {
        "id": "CU48hgo4Owz5"
      }
    },
    {
      "cell_type": "code",
      "source": "s = \"Hi there Sam!\"",
      "metadata": {
        "id": "s07c7JK7Oqt-"
      },
      "execution_count": null,
      "outputs": []
    },
    {
      "cell_type": "code",
      "source": "s = \"Hi there Sam!\"\nprint(s.split(' , '))",
      "metadata": {
        "id": "6mGVa3SQYLkb"
      },
      "execution_count": 10,
      "outputs": [
        {
          "name": "stdout",
          "output_type": "stream",
          "text": "['Hi there Sam!']\n"
        }
      ]
    },
    {
      "cell_type": "markdown",
      "source": "*`italicized text`*## 2. Use .format() to print the following string. \n\n### Output should be: The diameter of Earth is 12742 kilometers.",
      "metadata": {
        "id": "GH1QBn8HP375"
      }
    },
    {
      "cell_type": "code",
      "source": "planet = \"Earth\"\ndiameter = 12742",
      "metadata": {
        "id": "_ZHoml3kPqic"
      },
      "execution_count": null,
      "outputs": []
    },
    {
      "cell_type": "code",
      "source": "planet = \"Earth\"\ndiameter = 12742\nprint( 'The diameter of {} is {} kilometers.' .format(planet,diameter));",
      "metadata": {
        "id": "HyRyJv6CYPb4"
      },
      "execution_count": 1,
      "outputs": [
        {
          "name": "stdout",
          "output_type": "stream",
          "text": "The diameter of Earth is 12742 kilometers.\n"
        }
      ]
    },
    {
      "cell_type": "markdown",
      "source": "## 3. In this nest dictionary grab the word \"hello\"",
      "metadata": {
        "id": "KE74ZEwkRExZ"
      }
    },
    {
      "cell_type": "code",
      "source": "d = {'k1':[1,2,3,{'tricky':['oh','man','inception',{'target':[1,2,3,'hello']}]}]}",
      "metadata": {
        "id": "fcVwbCc1QrQI"
      },
      "execution_count": null,
      "outputs": []
    },
    {
      "cell_type": "code",
      "source": "d = {'k1':[1,2,3,{'tricky':['oh','man','inception',{'target':[1,2,3,'hello']}]}]}\nprint(d['k1'][3][\"tricky\"][3]['target'][3])",
      "metadata": {
        "id": "MvbkMZpXYRaw"
      },
      "execution_count": 3,
      "outputs": [
        {
          "name": "stdout",
          "output_type": "stream",
          "text": "hello\n"
        }
      ]
    },
    {
      "cell_type": "markdown",
      "source": "# Numpy",
      "metadata": {
        "id": "bw0vVp-9ddjv"
      }
    },
    {
      "cell_type": "code",
      "source": "import numpy as np",
      "metadata": {
        "id": "LLiE_TYrhA1O"
      },
      "execution_count": null,
      "outputs": []
    },
    {
      "cell_type": "markdown",
      "source": "## 4.1 Create an array of 10 zeros? \n## 4.2 Create an array of 10 fives?",
      "metadata": {
        "id": "wOg8hinbgx30"
      }
    },
    {
      "cell_type": "code",
      "source": "import numpy as np\narray=np.zeros(10)\nprint('The array of 10 zeros');\nprint(array);",
      "metadata": {
        "id": "NHrirmgCYXvU"
      },
      "execution_count": 5,
      "outputs": [
        {
          "name": "stdout",
          "output_type": "stream",
          "text": "The array of 10 zeros\n\n[0. 0. 0. 0. 0. 0. 0. 0. 0. 0.]\n"
        }
      ]
    },
    {
      "cell_type": "code",
      "source": "import numpy as np\narray=np.ones(10)*5\nprint('The array of 10 fives');\nprint(array);",
      "metadata": {
        "id": "e4005lsTYXxx"
      },
      "execution_count": 7,
      "outputs": [
        {
          "name": "stdout",
          "output_type": "stream",
          "text": "The array of 10 fives\n\n[5. 5. 5. 5. 5. 5. 5. 5. 5. 5.]\n"
        }
      ]
    },
    {
      "cell_type": "markdown",
      "source": "## 5. Create an array of all the even integers from 20 to 35",
      "metadata": {
        "id": "gZHHDUBvrMX4"
      }
    },
    {
      "cell_type": "code",
      "source": "import numpy as np\narray=np.arange(20,35,2);\nprint('The array of all even integers from 20 to 35 are:');\nprint(array);\n",
      "metadata": {
        "id": "oAI2tbU2Yag-",
        "scrolled": true
      },
      "execution_count": 10,
      "outputs": [
        {
          "name": "stdout",
          "output_type": "stream",
          "text": "The array of all even integers from 20 to 35 are:\n\n[20 22 24 26 28 30 32 34]\n"
        }
      ]
    },
    {
      "cell_type": "markdown",
      "source": "6. Create a 3x3 matrix with values ranging from 0 to 8",
      "metadata": {
        "id": "NaOM308NsRpZ"
      }
    },
    {
      "cell_type": "code",
      "source": "import numpy as np\nx =  np.arange(0, 9).reshape(3,3)\nprint(x)",
      "metadata": {
        "id": "tOlEVH7BYceE"
      },
      "execution_count": 12,
      "outputs": [
        {
          "name": "stdout",
          "output_type": "stream",
          "text": "[[0 1 2]\n\n [3 4 5]\n\n [6 7 8]]\n"
        }
      ]
    },
    {
      "cell_type": "markdown",
      "source": "## 7. Concatinate a and b \n## a = np.array([1, 2, 3]), b = np.array([4, 5, 6])",
      "metadata": {
        "id": "hQ0dnhAQuU_p"
      }
    },
    {
      "cell_type": "code",
      "source": "import numpy as np\na=np.array([1,2,3]);\nb=np.array([4,5,6]);\ncon=np.concatenate((a,b),axis=0);\nprint(con)",
      "metadata": {
        "id": "rAPSw97aYfE0"
      },
      "execution_count": 14,
      "outputs": [
        {
          "name": "stdout",
          "output_type": "stream",
          "text": "[1 2 3 4 5 6]\n"
        }
      ]
    },
    {
      "cell_type": "markdown",
      "source": "# Pandas",
      "metadata": {
        "id": "dlPEY9DRwZga"
      }
    },
    {
      "cell_type": "markdown",
      "source": "## 8. Create a dataframe with 3 rows and 2 columns",
      "metadata": {
        "id": "ijoYW51zwr87"
      }
    },
    {
      "cell_type": "code",
      "source": "import pandas as pd\n",
      "metadata": {
        "id": "T5OxJRZ8uvR7"
      },
      "execution_count": null,
      "outputs": []
    },
    {
      "cell_type": "code",
      "source": "\nimport pandas as pd\ndata = [['tom', 10], ['nick', 15], ['juli', 14]]\ndf = pd.DataFrame(data, columns=['Name', 'Age'])\nprint(df)\n",
      "metadata": {
        "id": "xNpI_XXoYhs0"
      },
      "execution_count": 16,
      "outputs": [
        {
          "name": "stdout",
          "output_type": "stream",
          "text": "   Name  Age\n\n0   tom   10\n\n1  nick   15\n\n2  juli   14\n"
        }
      ]
    },
    {
      "cell_type": "markdown",
      "source": "## 9. Generate the series of dates from 1st Jan, 2023 to 10th Feb, 2023",
      "metadata": {
        "id": "UXSmdNclyJQD"
      }
    },
    {
      "cell_type": "code",
      "source": "import pandas as pd\ndates = pd.date_range(start ='1-1-2023',end ='02-10-2023')\nfor val in dates:\nprint(val)\n",
      "metadata": {
        "id": "dgyC0JhVYl4F"
      },
      "execution_count": 20,
      "outputs": [
        {
          "name": "stdout",
          "output_type": "stream",
          "text": "2023-01-01 00:00:00\n\n2023-01-02 00:00:00\n\n2023-01-03 00:00:00\n\n2023-01-04 00:00:00\n\n2023-01-05 00:00:00\n\n2023-01-06 00:00:00\n\n2023-01-07 00:00:00\n\n2023-01-08 00:00:00\n\n2023-01-09 00:00:00\n\n2023-01-10 00:00:00\n\n2023-01-11 00:00:00\n\n2023-01-12 00:00:00\n\n2023-01-13 00:00:00\n\n2023-01-14 00:00:00\n\n2023-01-15 00:00:00\n\n2023-01-16 00:00:00\n\n2023-01-17 00:00:00\n\n2023-01-18 00:00:00\n\n2023-01-19 00:00:00\n\n2023-01-20 00:00:00\n\n2023-01-21 00:00:00\n\n2023-01-22 00:00:00\n\n2023-01-23 00:00:00\n\n2023-01-24 00:00:00\n\n2023-01-25 00:00:00\n\n2023-01-26 00:00:00\n\n2023-01-27 00:00:00\n\n2023-01-28 00:00:00\n\n2023-01-29 00:00:00\n\n2023-01-30 00:00:00\n\n2023-01-31 00:00:00\n\n2023-02-01 00:00:00\n\n2023-02-02 00:00:00\n\n2023-02-03 00:00:00\n\n2023-02-04 00:00:00\n\n2023-02-05 00:00:00\n\n2023-02-06 00:00:00\n\n2023-02-07 00:00:00\n\n2023-02-08 00:00:00\n\n2023-02-09 00:00:00\n\n2023-02-10 00:00:00\n"
        }
      ]
    },
    {
      "cell_type": "markdown",
      "source": "## 10. Create 2D list to DataFrame\n\nlists = [[1, 'aaa', 22],\n         [2, 'bbb', 25],\n         [3, 'ccc', 24]]",
      "metadata": {
        "id": "ZizSetD-y5az"
      }
    },
    {
      "cell_type": "code",
      "source": "lists = [[1, 'aaa', 22], [2, 'bbb', 25], [3, 'ccc', 24]]",
      "metadata": {
        "id": "_XMC8aEt0llB"
      },
      "execution_count": null,
      "outputs": []
    },
    {
      "cell_type": "code",
      "source": "import pandas as pd\nlists = [[1, 'aaa', 22], [2, 'bbb', 25], [3, 'ccc', 24]]\ndf = pd.DataFrame(lists, columns =['S.No','Tag', 'number'])\nprint(df)\n",
      "metadata": {
        "id": "knH76sDKYsVX"
      },
      "execution_count": 23,
      "outputs": [
        {
          "name": "stdout",
          "output_type": "stream",
          "text": "   S.No  Tag  number\n\n0     1  aaa      22\n\n1     2  bbb      25\n\n2     3  ccc      24\n"
        }
      ]
    },
    {
      "cell_type": "code",
      "source": "",
      "metadata": {},
      "execution_count": null,
      "outputs": []
    }
  ]
}